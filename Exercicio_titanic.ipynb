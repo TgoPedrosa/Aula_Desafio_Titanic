{
 "cells": [
  {
   "cell_type": "code",
   "execution_count": 1,
   "metadata": {},
   "outputs": [],
   "source": [
    "import pandas as pd\n",
    "import numpy as np\n",
    "import matplotlib.pyplot as plt\n",
    "import seaborn as sns\n",
    "#Scikit- Learn\n",
    "from sklearn import preprocessing\n",
    "from sklearn.preprocessing import StandardScaler\n",
    "from sklearn.model_selection import train_test_split\n",
    "\n",
    "from sklearn.naive_bayes import GaussianNB\n",
    "from sklearn.naive_bayes import MultinomialNB\n",
    "from sklearn.naive_bayes import BernoulliNB\n",
    "from sklearn.linear_model import LogisticRegression\n",
    "from sklearn.ensemble import RandomForestClassifier\n",
    "from sklearn.svm import SVC, LinearSVC\n",
    "from sklearn.metrics import confusion_matrix, precision_score, recall_score, f1_score, roc_curve, roc_auc_score, classification_report"
   ]
  },
  {
   "cell_type": "code",
   "execution_count": 370,
   "metadata": {},
   "outputs": [],
   "source": [
    "# Carregando o data frame\n",
    "df_titanic = pd.read_csv('data/train.csv')"
   ]
  },
  {
   "cell_type": "code",
   "execution_count": null,
   "metadata": {},
   "outputs": [],
   "source": [
    "df_titanic.head()"
   ]
  },
  {
   "cell_type": "code",
   "execution_count": null,
   "metadata": {},
   "outputs": [],
   "source": [
    "df_titanic.info()"
   ]
  },
  {
   "cell_type": "markdown",
   "metadata": {},
   "source": [
    "## Pré-processamento"
   ]
  },
  {
   "cell_type": "markdown",
   "metadata": {},
   "source": [
    "### Dropando colunas desnecessárias"
   ]
  },
  {
   "cell_type": "code",
   "execution_count": null,
   "metadata": {},
   "outputs": [],
   "source": [
    "df_titanic['Ticket'].value_counts()"
   ]
  },
  {
   "cell_type": "code",
   "execution_count": 371,
   "metadata": {},
   "outputs": [],
   "source": [
    "# Removendo colunas \n",
    "# Name, PassengerID e Ticket não é relevante para a classificação\n",
    "# Cabin muitos valores nulos\n",
    "df_titanic = df_titanic.drop(['Name', 'PassengerId', 'Ticket', 'Cabin'], axis=1)"
   ]
  },
  {
   "cell_type": "markdown",
   "metadata": {},
   "source": [
    "### Convertendo para valores numericos e tratando missing values"
   ]
  },
  {
   "cell_type": "code",
   "execution_count": 372,
   "metadata": {},
   "outputs": [],
   "source": [
    "# Convertendo sexo para valor categórico\n",
    "df_titanic['Sex'] = df_titanic['Sex'].map( {'female': 1, 'male': 0} ).astype(int)"
   ]
  },
  {
   "cell_type": "code",
   "execution_count": 373,
   "metadata": {},
   "outputs": [],
   "source": [
    "# Funcao para preencher os valores nulos da idade pela média de acordo com o sexo\n",
    "for i in range(0,2):\n",
    "    media = df_titanic.loc[df_titanic['Sex']  == i]['Age'].mean()\n",
    "    df_titanic.loc[(df_titanic.Age.isnull()) & (df_titanic.Sex == i),'Age'] = media\n",
    "df_titanic['Age'] = df_titanic['Age'].astype(int)"
   ]
  },
  {
   "cell_type": "code",
   "execution_count": 374,
   "metadata": {},
   "outputs": [],
   "source": [
    "# Removendo 2 registros que não tem o valor Embarked\n",
    "df_titanic = df_titanic[df_titanic['Embarked'].notnull()]"
   ]
  },
  {
   "cell_type": "code",
   "execution_count": 375,
   "metadata": {},
   "outputs": [],
   "source": [
    "# Convertendo Embarked para valor categórico\n",
    "df_titanic['Embarked'] = df_titanic['Embarked'].map( {'C': 0, 'Q': 1, 'S': 2} ).astype(int)"
   ]
  },
  {
   "cell_type": "code",
   "execution_count": 376,
   "metadata": {},
   "outputs": [
    {
     "name": "stdout",
     "output_type": "stream",
     "text": [
      "<class 'pandas.core.frame.DataFrame'>\n",
      "Int64Index: 889 entries, 0 to 890\n",
      "Data columns (total 8 columns):\n",
      " #   Column    Non-Null Count  Dtype  \n",
      "---  ------    --------------  -----  \n",
      " 0   Survived  889 non-null    int64  \n",
      " 1   Pclass    889 non-null    int64  \n",
      " 2   Sex       889 non-null    int64  \n",
      " 3   Age       889 non-null    int64  \n",
      " 4   SibSp     889 non-null    int64  \n",
      " 5   Parch     889 non-null    int64  \n",
      " 6   Fare      889 non-null    float64\n",
      " 7   Embarked  889 non-null    int64  \n",
      "dtypes: float64(1), int64(7)\n",
      "memory usage: 62.5 KB\n"
     ]
    }
   ],
   "source": [
    "df_titanic.info()"
   ]
  },
  {
   "cell_type": "markdown",
   "metadata": {},
   "source": [
    "### Agrupando os valores de colunas com um range muito grande"
   ]
  },
  {
   "cell_type": "code",
   "execution_count": 377,
   "metadata": {},
   "outputs": [
    {
     "data": {
      "text/plain": [
       "count    889.000000\n",
       "mean      29.518560\n",
       "std       12.993412\n",
       "min        0.000000\n",
       "25%       22.000000\n",
       "50%       30.000000\n",
       "75%       35.000000\n",
       "max       80.000000\n",
       "Name: Age, dtype: float64"
      ]
     },
     "execution_count": 377,
     "metadata": {},
     "output_type": "execute_result"
    }
   ],
   "source": [
    "df_titanic['Age'].describe()"
   ]
  },
  {
   "cell_type": "code",
   "execution_count": 378,
   "metadata": {},
   "outputs": [],
   "source": [
    "# Função para separar as idades e categorias de 0-2 \n",
    "# Jovens - Indivíduos de até 19 anos;\n",
    "# Adultos - Indivíduos com idade entre 20 até 59 anos;\n",
    "# Idosos - Indivíduos de 60 anos em diante.\n",
    "\n",
    "df_titanic.loc[ df_titanic['Age'] <= 19, 'Age'] = 0\n",
    "df_titanic.loc[(df_titanic['Age'] > 19) & (df_titanic['Age'] <= 59), 'Age'] = 1\n",
    "df_titanic.loc[(df_titanic['Age'] > 59), 'Age'] = 2\n",
    "df_titanic['Age'] = df_titanic['Age'].astype(int)"
   ]
  },
  {
   "cell_type": "code",
   "execution_count": 379,
   "metadata": {},
   "outputs": [
    {
     "data": {
      "text/plain": [
       "count    889.000000\n",
       "mean      32.096681\n",
       "std       49.697504\n",
       "min        0.000000\n",
       "25%        7.895800\n",
       "50%       14.454200\n",
       "75%       31.000000\n",
       "max      512.329200\n",
       "Name: Fare, dtype: float64"
      ]
     },
     "execution_count": 379,
     "metadata": {},
     "output_type": "execute_result"
    }
   ],
   "source": [
    "df_titanic['Fare'].describe()"
   ]
  },
  {
   "cell_type": "code",
   "execution_count": 380,
   "metadata": {},
   "outputs": [],
   "source": [
    "# Função para separar as idades e categorias de 0-3 utilizando quartis\n",
    "\n",
    "primeiro_quartio = df_titanic['Fare'].describe()['25%']\n",
    "segundo_quartio = df_titanic['Fare'].describe()['50%']\n",
    "terceiro_quartio = df_titanic['Fare'].describe()['75%']\n",
    "\n",
    "df_titanic.loc[ df_titanic['Fare'] <= primeiro_quartio, 'Fare'] = 0\n",
    "df_titanic.loc[(df_titanic['Fare'] > primeiro_quartio) & (df_titanic['Fare'] <= segundo_quartio), 'Fare'] = 1\n",
    "df_titanic.loc[(df_titanic['Fare'] > segundo_quartio) & (df_titanic['Fare'] <= terceiro_quartio), 'Fare'] = 2\n",
    "df_titanic.loc[(df_titanic['Fare'] > terceiro_quartio), 'Fare'] = 3\n",
    "df_titanic['Fare'] = df_titanic['Fare'].astype(int)"
   ]
  },
  {
   "cell_type": "code",
   "execution_count": 381,
   "metadata": {},
   "outputs": [
    {
     "data": {
      "text/plain": [
       "0    606\n",
       "1    209\n",
       "2     28\n",
       "4     18\n",
       "3     16\n",
       "8      7\n",
       "5      5\n",
       "Name: SibSp, dtype: int64"
      ]
     },
     "execution_count": 381,
     "metadata": {},
     "output_type": "execute_result"
    }
   ],
   "source": [
    "df_titanic['SibSp'].value_counts()"
   ]
  },
  {
   "cell_type": "code",
   "execution_count": 382,
   "metadata": {},
   "outputs": [],
   "source": [
    "# Agrupando se o passageiro tem siblings / spouses \n",
    "# 0 = SibSp == 0\n",
    "# 1 = SibSp > 0\n",
    "df_titanic.loc[ df_titanic['SibSp'] == 0, 'SibSp'] = 0\n",
    "df_titanic.loc[(df_titanic['SibSp'] > 0), 'SibSp'] = 1\n",
    "df_titanic['SibSp'] = df_titanic['SibSp'].astype(int)"
   ]
  },
  {
   "cell_type": "code",
   "execution_count": 383,
   "metadata": {},
   "outputs": [
    {
     "data": {
      "text/plain": [
       "0    676\n",
       "1    118\n",
       "2     80\n",
       "5      5\n",
       "3      5\n",
       "4      4\n",
       "6      1\n",
       "Name: Parch, dtype: int64"
      ]
     },
     "execution_count": 383,
     "metadata": {},
     "output_type": "execute_result"
    }
   ],
   "source": [
    "df_titanic['Parch'].value_counts()"
   ]
  },
  {
   "cell_type": "code",
   "execution_count": 384,
   "metadata": {},
   "outputs": [],
   "source": [
    "# Agrupando se o passageiro tem parents / children\n",
    "# 0 = Parch == 0\n",
    "# 1 = Parch > 0\n",
    "df_titanic.loc[ df_titanic['Parch'] == 0, 'Parch'] = 0\n",
    "df_titanic.loc[(df_titanic['Parch'] > 0), 'Parch'] = 1\n",
    "df_titanic['Parch'] = df_titanic['Parch'].astype(int)"
   ]
  },
  {
   "cell_type": "code",
   "execution_count": 385,
   "metadata": {},
   "outputs": [
    {
     "data": {
      "text/html": [
       "<div>\n",
       "<style scoped>\n",
       "    .dataframe tbody tr th:only-of-type {\n",
       "        vertical-align: middle;\n",
       "    }\n",
       "\n",
       "    .dataframe tbody tr th {\n",
       "        vertical-align: top;\n",
       "    }\n",
       "\n",
       "    .dataframe thead th {\n",
       "        text-align: right;\n",
       "    }\n",
       "</style>\n",
       "<table border=\"1\" class=\"dataframe\">\n",
       "  <thead>\n",
       "    <tr style=\"text-align: right;\">\n",
       "      <th></th>\n",
       "      <th>Survived</th>\n",
       "      <th>Pclass</th>\n",
       "      <th>Sex</th>\n",
       "      <th>Age</th>\n",
       "      <th>SibSp</th>\n",
       "      <th>Parch</th>\n",
       "      <th>Fare</th>\n",
       "      <th>Embarked</th>\n",
       "    </tr>\n",
       "  </thead>\n",
       "  <tbody>\n",
       "    <tr>\n",
       "      <th>0</th>\n",
       "      <td>0</td>\n",
       "      <td>3</td>\n",
       "      <td>0</td>\n",
       "      <td>1</td>\n",
       "      <td>1</td>\n",
       "      <td>0</td>\n",
       "      <td>0</td>\n",
       "      <td>2</td>\n",
       "    </tr>\n",
       "    <tr>\n",
       "      <th>1</th>\n",
       "      <td>1</td>\n",
       "      <td>1</td>\n",
       "      <td>1</td>\n",
       "      <td>1</td>\n",
       "      <td>1</td>\n",
       "      <td>0</td>\n",
       "      <td>3</td>\n",
       "      <td>0</td>\n",
       "    </tr>\n",
       "    <tr>\n",
       "      <th>2</th>\n",
       "      <td>1</td>\n",
       "      <td>3</td>\n",
       "      <td>1</td>\n",
       "      <td>1</td>\n",
       "      <td>0</td>\n",
       "      <td>0</td>\n",
       "      <td>1</td>\n",
       "      <td>2</td>\n",
       "    </tr>\n",
       "    <tr>\n",
       "      <th>3</th>\n",
       "      <td>1</td>\n",
       "      <td>1</td>\n",
       "      <td>1</td>\n",
       "      <td>1</td>\n",
       "      <td>1</td>\n",
       "      <td>0</td>\n",
       "      <td>3</td>\n",
       "      <td>2</td>\n",
       "    </tr>\n",
       "    <tr>\n",
       "      <th>4</th>\n",
       "      <td>0</td>\n",
       "      <td>3</td>\n",
       "      <td>0</td>\n",
       "      <td>1</td>\n",
       "      <td>0</td>\n",
       "      <td>0</td>\n",
       "      <td>1</td>\n",
       "      <td>2</td>\n",
       "    </tr>\n",
       "  </tbody>\n",
       "</table>\n",
       "</div>"
      ],
      "text/plain": [
       "   Survived  Pclass  Sex  Age  SibSp  Parch  Fare  Embarked\n",
       "0         0       3    0    1      1      0     0         2\n",
       "1         1       1    1    1      1      0     3         0\n",
       "2         1       3    1    1      0      0     1         2\n",
       "3         1       1    1    1      1      0     3         2\n",
       "4         0       3    0    1      0      0     1         2"
      ]
     },
     "execution_count": 385,
     "metadata": {},
     "output_type": "execute_result"
    }
   ],
   "source": [
    "df_titanic.head()"
   ]
  },
  {
   "cell_type": "markdown",
   "metadata": {},
   "source": [
    "## Preparando o modelo"
   ]
  },
  {
   "cell_type": "code",
   "execution_count": 386,
   "metadata": {},
   "outputs": [
    {
     "data": {
      "text/plain": [
       "<matplotlib.axes._subplots.AxesSubplot at 0x7f395c036dc0>"
      ]
     },
     "execution_count": 386,
     "metadata": {},
     "output_type": "execute_result"
    },
    {
     "data": {
      "image/png": "[encoded data removed]",
      "text/plain": [
       "<Figure size 1080x360 with 2 Axes>"
      ]
     },
     "metadata": {
      "needs_background": "light"
     },
     "output_type": "display_data"
    }
   ],
   "source": [
    "fig, ax = plt.subplots(figsize=(15,5))\n",
    "sns.heatmap(df_titanic.corr(method='spearman'),\n",
    "                    ax=ax,cmap='coolwarm',\n",
    "                    annot=True) "
   ]
  },
  {
   "cell_type": "code",
   "execution_count": 387,
   "metadata": {},
   "outputs": [
    {
     "name": "stdout",
     "output_type": "stream",
     "text": [
      "(889,)\n",
      "(889, 7)\n"
     ]
    }
   ],
   "source": [
    "# Definindo as colunas alvo e caracteristicas\n",
    "#coluna alvo\n",
    "alvo = df_titanic['Survived'] \n",
    "\n",
    "#colunas de características \n",
    "# Todas colunas menos a alvo\n",
    "caracteristicas = df_titanic.drop(['Survived'], axis=1)\n",
    "\n",
    "print(alvo.shape)\n",
    "print(caracteristicas.shape)"
   ]
  },
  {
   "cell_type": "markdown",
   "metadata": {},
   "source": [
    "### Teste alterando a escala dos dados"
   ]
  },
  {
   "cell_type": "code",
   "execution_count": 388,
   "metadata": {},
   "outputs": [],
   "source": [
    "# Teste com a alteração da escala dos dados\n",
    "scaler = StandardScaler().fit(caracteristicas)\n",
    "rescaledX = pd.DataFrame(scaler.fit_transform(caracteristicas))"
   ]
  },
  {
   "cell_type": "markdown",
   "metadata": {},
   "source": [
    "### Separando em teste e treino"
   ]
  },
  {
   "cell_type": "code",
   "execution_count": 389,
   "metadata": {},
   "outputs": [],
   "source": [
    "# Dados normais\n",
    "X_train, X_test, y_train, y_test = train_test_split(caracteristicas, alvo, test_size=0.30,random_state=100) \n",
    "\n",
    "# Dados rescalados\n",
    "X_train_r, X_test_r, y_train_r, y_test_r = train_test_split(rescaledX, alvo, test_size=0.30,random_state=100) "
   ]
  },
  {
   "cell_type": "markdown",
   "metadata": {},
   "source": [
    "## Testes de predição"
   ]
  },
  {
   "cell_type": "markdown",
   "metadata": {},
   "source": [
    "### MultinomialNB"
   ]
  },
  {
   "cell_type": "code",
   "execution_count": 390,
   "metadata": {},
   "outputs": [
    {
     "name": "stdout",
     "output_type": "stream",
     "text": [
      "precision: 0.7160493827160493\n",
      "recall: 0.5420560747663551\n",
      "f1: 0.6170212765957447\n",
      "Score:  0.7540192926045016\n",
      "[[137  23]\n",
      " [ 49  58]]\n"
     ]
    }
   ],
   "source": [
    "clfM = MultinomialNB()\n",
    "clfM.fit(X_train, y_train)\n",
    "\n",
    "score=clfM.score(X_train, y_train)\n",
    "ypred=clfM.predict(X_test)\n",
    "\n",
    "cm = confusion_matrix(y_test, ypred)\n",
    "\n",
    "# precision, recall, f1 metrics\n",
    "\n",
    "print(\"precision:\",precision_score(y_test, ypred))\n",
    "print(\"recall:\",recall_score(y_test, ypred))\n",
    "print(\"f1:\",f1_score(y_test, ypred))\n",
    "print(\"Score: \",score)\n",
    "print(cm)"
   ]
  },
  {
   "cell_type": "markdown",
   "metadata": {},
   "source": [
    "### BernoulliNB"
   ]
  },
  {
   "cell_type": "markdown",
   "metadata": {},
   "source": [
    "#### Dados normal"
   ]
  },
  {
   "cell_type": "code",
   "execution_count": 391,
   "metadata": {
    "scrolled": false
   },
   "outputs": [
    {
     "name": "stdout",
     "output_type": "stream",
     "text": [
      "precision: 0.7471264367816092\n",
      "recall: 0.6074766355140186\n",
      "f1: 0.6701030927835052\n",
      "Score:  0.7829581993569131\n",
      "[[138  22]\n",
      " [ 42  65]]\n"
     ]
    }
   ],
   "source": [
    "clfB = BernoulliNB()\n",
    "clfB.fit(X_train, y_train)\n",
    "\n",
    "score=clfB.score(X_train, y_train)\n",
    "ypred=clfB.predict(X_test)\n",
    "\n",
    "cm = confusion_matrix(y_test, ypred)\n",
    "\n",
    "# precision, recall, f1 metrics\n",
    "\n",
    "print(\"precision:\",precision_score(y_test, ypred))\n",
    "print(\"recall:\",recall_score(y_test, ypred))\n",
    "print(\"f1:\",f1_score(y_test, ypred))\n",
    "print(\"Score: \",score)\n",
    "print(cm)"
   ]
  },
  {
   "cell_type": "markdown",
   "metadata": {},
   "source": [
    "#### Dados com a escala alterada "
   ]
  },
  {
   "cell_type": "code",
   "execution_count": 392,
   "metadata": {},
   "outputs": [
    {
     "name": "stdout",
     "output_type": "stream",
     "text": [
      "precision: 0.6956521739130435\n",
      "recall: 0.5981308411214953\n",
      "f1: 0.64321608040201\n",
      "Score:  0.7668810289389068\n",
      "[[132  28]\n",
      " [ 43  64]]\n"
     ]
    }
   ],
   "source": [
    "clfB_r = BernoulliNB()\n",
    "clfB_r.fit(X_train_r, y_train_r)\n",
    "\n",
    "score_r=clfB_r.score(X_train_r, y_train_r)\n",
    "ypred_r=clfB_r.predict(X_test_r)\n",
    "\n",
    "cm_r = confusion_matrix(y_test_r, ypred_r)\n",
    "\n",
    "# precision, recall, f1 metrics\n",
    "\n",
    "print(\"precision:\",precision_score(y_test_r, ypred_r))\n",
    "print(\"recall:\",recall_score(y_test_r, ypred_r))\n",
    "print(\"f1:\",f1_score(y_test_r, ypred_r))\n",
    "print(\"Score: \",score_r)\n",
    "print(cm_r)"
   ]
  },
  {
   "cell_type": "markdown",
   "metadata": {},
   "source": [
    "### GaussianNB"
   ]
  },
  {
   "cell_type": "markdown",
   "metadata": {},
   "source": [
    "#### Dados normal"
   ]
  },
  {
   "cell_type": "code",
   "execution_count": 393,
   "metadata": {
    "scrolled": false
   },
   "outputs": [
    {
     "name": "stdout",
     "output_type": "stream",
     "text": [
      "precision: 0.6886792452830188\n",
      "recall: 0.6822429906542056\n",
      "f1: 0.6854460093896714\n",
      "Score:  0.7588424437299035\n",
      "[[127  33]\n",
      " [ 34  73]]\n"
     ]
    }
   ],
   "source": [
    "clfG = GaussianNB()\n",
    "clfG.fit(X_train, y_train)\n",
    "\n",
    "score=clfG.score(X_train, y_train)\n",
    "ypred=clfG.predict(X_test)\n",
    "\n",
    "cm = confusion_matrix(y_test, ypred)\n",
    "\n",
    "# precision, recall, f1 metrics\n",
    "\n",
    "print(\"precision:\",precision_score(y_test, ypred))\n",
    "print(\"recall:\",recall_score(y_test, ypred))\n",
    "print(\"f1:\",f1_score(y_test, ypred))\n",
    "print(\"Score: \",score)\n",
    "print(cm)"
   ]
  },
  {
   "cell_type": "markdown",
   "metadata": {},
   "source": [
    "#### Dados com a escala alterada "
   ]
  },
  {
   "cell_type": "code",
   "execution_count": 394,
   "metadata": {},
   "outputs": [
    {
     "name": "stdout",
     "output_type": "stream",
     "text": [
      "precision: 0.6886792452830188\n",
      "recall: 0.6822429906542056\n",
      "f1: 0.6854460093896714\n",
      "Score:  0.7588424437299035\n",
      "[[127  33]\n",
      " [ 34  73]]\n"
     ]
    }
   ],
   "source": [
    "clfG_r = GaussianNB()\n",
    "clfG_r.fit(X_train_r, y_train_r)\n",
    "\n",
    "score_r=clfG_r.score(X_train_r, y_train_r)\n",
    "ypred_r=clfG_r.predict(X_test_r)\n",
    "\n",
    "cm_r = confusion_matrix(y_test_r, ypred_r)\n",
    "\n",
    "# precision, recall, f1 metrics\n",
    "\n",
    "print(\"precision:\",precision_score(y_test_r, ypred_r))\n",
    "print(\"recall:\",recall_score(y_test_r, ypred_r))\n",
    "print(\"f1:\",f1_score(y_test_r, ypred_r))\n",
    "print(\"Score: \",score_r)\n",
    "print(cm_r)"
   ]
  },
  {
   "cell_type": "markdown",
   "metadata": {},
   "source": [
    "### Regressão logistica"
   ]
  },
  {
   "cell_type": "markdown",
   "metadata": {},
   "source": [
    "#### Dados normal"
   ]
  },
  {
   "cell_type": "code",
   "execution_count": 395,
   "metadata": {
    "scrolled": false
   },
   "outputs": [
    {
     "name": "stdout",
     "output_type": "stream",
     "text": [
      "precision: 0.7653061224489796\n",
      "recall: 0.7009345794392523\n",
      "f1: 0.7317073170731707\n",
      "Score:  0.7813504823151125\n",
      "[[137  23]\n",
      " [ 32  75]]\n"
     ]
    }
   ],
   "source": [
    "logreg = LogisticRegression(max_iter=360)\n",
    "logreg.fit(X_train, y_train)\n",
    "\n",
    "score=logreg.score(X_train, y_train)\n",
    "ypred=logreg.predict(X_test)\n",
    "\n",
    "cm = confusion_matrix(y_test, ypred)\n",
    "\n",
    "# precision, recall, f1 metrics\n",
    "\n",
    "print(\"precision:\",precision_score(y_test, ypred))\n",
    "print(\"recall:\",recall_score(y_test, ypred))\n",
    "print(\"f1:\",f1_score(y_test, ypred))\n",
    "print(\"Score: \",score)\n",
    "print(cm)"
   ]
  },
  {
   "cell_type": "markdown",
   "metadata": {},
   "source": [
    "#### Dados com a escala alterada "
   ]
  },
  {
   "cell_type": "code",
   "execution_count": 398,
   "metadata": {},
   "outputs": [
    {
     "name": "stdout",
     "output_type": "stream",
     "text": [
      "precision: 0.7575757575757576\n",
      "recall: 0.7009345794392523\n",
      "f1: 0.7281553398058253\n",
      "Score:  0.7781350482315113\n",
      "[[136  24]\n",
      " [ 32  75]]\n"
     ]
    }
   ],
   "source": [
    "logreg_r = LogisticRegression()\n",
    "logreg_r.fit(X_train_r, y_train_r)\n",
    "\n",
    "score_r=logreg_r.score(X_train_r, y_train_r)\n",
    "ypred_r=logreg_r.predict(X_test_r)\n",
    "\n",
    "cm_r = confusion_matrix(y_test_r, ypred_r)\n",
    "\n",
    "# precision, recall, f1 metrics\n",
    "\n",
    "print(\"precision:\",precision_score(y_test_r, ypred_r))\n",
    "print(\"recall:\",recall_score(y_test_r, ypred_r))\n",
    "print(\"f1:\",f1_score(y_test_r, ypred_r))\n",
    "print(\"Score: \",score_r)\n",
    "print(cm_r)"
   ]
  },
  {
   "cell_type": "markdown",
   "metadata": {},
   "source": [
    "### RandomForestClassifier"
   ]
  },
  {
   "cell_type": "markdown",
   "metadata": {},
   "source": [
    "#### Dados normal"
   ]
  },
  {
   "cell_type": "code",
   "execution_count": 402,
   "metadata": {
    "scrolled": false
   },
   "outputs": [
    {
     "name": "stdout",
     "output_type": "stream",
     "text": [
      "precision: 0.8241758241758241\n",
      "recall: 0.7009345794392523\n",
      "f1: 0.7575757575757576\n",
      "Score:  0.8681672025723473\n",
      "[[144  16]\n",
      " [ 32  75]]\n"
     ]
    }
   ],
   "source": [
    "clfR = RandomForestClassifier()\n",
    "clfR.fit(X_train, y_train)\n",
    "\n",
    "score=clfR.score(X_train, y_train)\n",
    "ypred=clfR.predict(X_test)\n",
    "\n",
    "cm = confusion_matrix(y_test, ypred)\n",
    "\n",
    "# precision, recall, f1 metrics\n",
    "\n",
    "print(\"precision:\",precision_score(y_test, ypred))\n",
    "print(\"recall:\",recall_score(y_test, ypred))\n",
    "print(\"f1:\",f1_score(y_test, ypred))\n",
    "print(\"Score: \",score)\n",
    "print(cm)"
   ]
  },
  {
   "cell_type": "markdown",
   "metadata": {},
   "source": [
    "#### Dados com a escala alterada "
   ]
  },
  {
   "cell_type": "code",
   "execution_count": 404,
   "metadata": {},
   "outputs": [
    {
     "name": "stdout",
     "output_type": "stream",
     "text": [
      "precision: 0.8241758241758241\n",
      "recall: 0.7009345794392523\n",
      "f1: 0.7575757575757576\n",
      "Score:  0.8681672025723473\n",
      "[[144  16]\n",
      " [ 32  75]]\n"
     ]
    }
   ],
   "source": [
    "clfR_r = RandomForestClassifier()\n",
    "clfR_r.fit(X_train_r, y_train_r)\n",
    "\n",
    "score_r=clfR_r.score(X_train_r, y_train_r)\n",
    "ypred_r=clfR_r.predict(X_test_r)\n",
    "\n",
    "cm_r = confusion_matrix(y_test_r, ypred_r)\n",
    "\n",
    "# precision, recall, f1 metrics\n",
    "\n",
    "print(\"precision:\",precision_score(y_test_r, ypred_r))\n",
    "print(\"recall:\",recall_score(y_test_r, ypred_r))\n",
    "print(\"f1:\",f1_score(y_test_r, ypred_r))\n",
    "print(\"Score: \",score_r)\n",
    "print(cm_r)"
   ]
  },
  {
   "cell_type": "markdown",
   "metadata": {},
   "source": [
    "### SVC"
   ]
  },
  {
   "cell_type": "markdown",
   "metadata": {},
   "source": [
    "#### Dados normal"
   ]
  },
  {
   "cell_type": "code",
   "execution_count": 406,
   "metadata": {},
   "outputs": [
    {
     "name": "stdout",
     "output_type": "stream",
     "text": [
      "precision: 0.85\n",
      "recall: 0.6355140186915887\n",
      "f1: 0.7272727272727272\n",
      "Score:  0.8183279742765274\n",
      "[[148  12]\n",
      " [ 39  68]]\n"
     ]
    }
   ],
   "source": [
    "clfLS = SVC()\n",
    "clfLS.fit(X_train, y_train)\n",
    "\n",
    "score=clfLS.score(X_train, y_train)\n",
    "ypred=clfLS.predict(X_test)\n",
    "\n",
    "cm = confusion_matrix(y_test, ypred)\n",
    "\n",
    "# precision, recall, f1 metrics\n",
    "\n",
    "print(\"precision:\",precision_score(y_test, ypred))\n",
    "print(\"recall:\",recall_score(y_test, ypred))\n",
    "print(\"f1:\",f1_score(y_test, ypred))\n",
    "print(\"Score: \",score)\n",
    "print(cm)"
   ]
  },
  {
   "cell_type": "markdown",
   "metadata": {},
   "source": [
    "#### Dados com a escala alterada"
   ]
  },
  {
   "cell_type": "code",
   "execution_count": 408,
   "metadata": {},
   "outputs": [
    {
     "name": "stdout",
     "output_type": "stream",
     "text": [
      "precision: 0.8452380952380952\n",
      "recall: 0.6635514018691588\n",
      "f1: 0.7434554973821988\n",
      "Score:  0.8360128617363344\n",
      "[[147  13]\n",
      " [ 36  71]]\n"
     ]
    }
   ],
   "source": [
    "clfLS_r = SVC()\n",
    "clfLS_r.fit(X_train_r, y_train_r)\n",
    "\n",
    "score_r=clfLS_r.score(X_train_r, y_train_r)\n",
    "ypred_r=clfLS_r.predict(X_test_r)\n",
    "\n",
    "cm_r = confusion_matrix(y_test_r, ypred_r)\n",
    "\n",
    "# precision, recall, f1 metrics\n",
    "\n",
    "print(\"precision:\",precision_score(y_test_r, ypred_r))\n",
    "print(\"recall:\",recall_score(y_test_r, ypred_r))\n",
    "print(\"f1:\",f1_score(y_test_r, ypred_r))\n",
    "print(\"Score: \",score_r)\n",
    "print(cm_r)"
   ]
  }
 ],
 "metadata": {
  "kernelspec": {
   "display_name": "Python 3",
   "language": "python",
   "name": "python3"
  },
  "language_info": {
   "codemirror_mode": {
    "name": "ipython",
    "version": 3
   },
   "file_extension": ".py",
   "mimetype": "text/x-python",
   "name": "python",
   "nbconvert_exporter": "python",
   "pygments_lexer": "ipython3",
   "version": "3.8.3"
  }
 },
 "nbformat": 4,
 "nbformat_minor": 4
}
